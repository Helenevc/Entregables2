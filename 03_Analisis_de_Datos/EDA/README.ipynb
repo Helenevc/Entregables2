{
 "cells": [
  {
   "cell_type": "markdown",
   "id": "2a253b36",
   "metadata": {},
   "source": [
    "## **PROYECTO EDA - Data Science Online Febrero 2025 - Hélène van Caloen**"
   ]
  },
  {
   "cell_type": "markdown",
   "id": "5f2a7b93",
   "metadata": {},
   "source": [
    "\n",
    "\n",
    "**Descripción**\n",
    "------------\n",
    "\n",
    "Bienvenido a mi proyecto en el cual buscaremos respuestas a la pregunta de saber si existen factores determinantes de excito en los estudiantes universitarios. \n",
    "\n",
    "En el repositorio encontrareis:\n",
    "\n",
    "1. La Memoria en pdf, con los pasos detallados de nuestros analisis\n",
    "2. El notebook de nuestro primer dataset de Kaggle\n",
    "3. El notebook de nuestro data set de Cataluña\n",
    "4. La documentacion e imagener usados\n",
    "\n",
    "\n",
    "**Datasets utilizados**\n",
    "----------------------------\n",
    "\n",
    "Para realizar este modelo usamos:\n",
    "1. un dataset de Kaggle de los estudiantes que tiene 20 columnas, el cual tenía como principal objetivo analizar los factores de éxito escolar en los estudiantes -> StudentPerformanceFactors \n",
    "Kaggle : https://www.kaggle.com/datasets?search=StudentPerformanceFactors\n",
    "2. los resultados a los examenes de accesibilidad a la universidad de los estudiantes de colegios privados y públicos en Cataluña, extraídos de la web oficial: Estudis Universitaris de Catalunya: \n",
    "https://estudis.aqu.cat/euc/ca/Comu/Inici \n",
    "\n",
    "\n",
    "\n",
    "**Importar librarias necesarias**\n",
    "----------\n",
    "import matplotlib.pyplot as plt\n",
    "import numpy as np\n",
    "import pandas as pd\n",
    "import seaborn as sns\n",
    "from scipy.stats import pearsonr\n",
    "from scipy.stats import mannwhitneyu\n",
    "import scipy.stats as stats\n",
    "\n",
    "\n",
    "**Useful Ressources**\n",
    "----------------\n",
    "*Pandas Documentation *Pandas Tutorials *StackOverflow Pandas Questions *Awesome Public Data Sets *Kaggle Data Sets \n",
    "\n",
    "**Conclusiones**\n",
    "----------------\n",
    "\n",
    "A pesar de haber podido identificar factores claves de excito de los buenos resultados escolares, tales como la implicacion de los padres, el acceso a recursos, etc. y que hemos podido confirmar con seguridad que en Calatuña las pruebas de selectividad tienen claramente mejores resultados en el privado que en el publico, creo que el aprendizaje mas importante a destacar de mi primer proyecto EDA, es la importancia  de la buena elección/selección de  los datos iniciales, siendo consciente de como pueden impactar nuestro análisis. Sera clave mantener un ojo critico a lo largo de su análisis y contextualizar los datos para extraer la información mas ajustada. \n",
    "\n"
   ]
  }
 ],
 "metadata": {
  "kernelspec": {
   "display_name": "Python 3",
   "language": "python",
   "name": "python3"
  },
  "language_info": {
   "codemirror_mode": {
    "name": "ipython",
    "version": 3
   },
   "file_extension": ".py",
   "mimetype": "text/x-python",
   "name": "python",
   "nbconvert_exporter": "python",
   "pygments_lexer": "ipython3",
   "version": "3.13.2"
  }
 },
 "nbformat": 4,
 "nbformat_minor": 5
}
