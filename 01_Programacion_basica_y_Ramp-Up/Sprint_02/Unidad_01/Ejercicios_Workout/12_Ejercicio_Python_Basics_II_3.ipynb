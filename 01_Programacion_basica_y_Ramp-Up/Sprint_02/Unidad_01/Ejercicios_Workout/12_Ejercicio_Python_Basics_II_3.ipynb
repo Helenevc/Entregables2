{
 "cells": [
  {
   "cell_type": "markdown",
   "metadata": {
    "id": "-d4FLgKjxdBU"
   },
   "source": [
    "## EJERCICIOS PYTHON BASICO II\n",
    "## FUNCIONES"
   ]
  },
  {
   "cell_type": "markdown",
   "metadata": {
    "id": "E5u_wayhxdBV"
   },
   "source": [
    "Para ejercitarte y afianzar lo aprendido sobre funciones, completa los siguiente ejercicios.\n",
    "  \n",
    "La solución a los mismos se publicarán en el repo del curso a lo largo del sprint"
   ]
  },
  {
   "cell_type": "markdown",
   "metadata": {
    "id": "Bklpbx_exdBV"
   },
   "source": [
    "## Contenidos"
   ]
  },
  {
   "cell_type": "markdown",
   "metadata": {
    "id": "1sOwRpwkxdBV"
   },
   "source": [
    "### Ejercicio 1"
   ]
  },
  {
   "cell_type": "markdown",
   "metadata": {
    "id": "Fc6rXkCBxdBW"
   },
   "source": [
    "Escribe una función que convierta números del 1 al 7 en nombres de los dias de la semana. La función constará de un único argumento numérico y una salida de tipo string"
   ]
  },
  {
   "cell_type": "code",
   "execution_count": 8,
   "metadata": {
    "colab": {
     "base_uri": "https://localhost:8080/"
    },
    "executionInfo": {
     "elapsed": 26,
     "status": "ok",
     "timestamp": 1741854010145,
     "user": {
      "displayName": "Helene van Caloen",
      "userId": "03717134452519994581"
     },
     "user_tz": -60
    },
    "id": "vST3ke32xdBW",
    "outputId": "fb05fc44-819c-468a-bec1-5400d73a8288"
   },
   "outputs": [
    {
     "name": "stdout",
     "output_type": "stream",
     "text": [
      "viernes\n"
     ]
    }
   ],
   "source": [
    "dias = {1:\"lunes\", 2:\"martes\", 3:\"miercoles\", 4:\"jueves\", 5:\"viernes\", 6:\"sabdado\", 7:\"domingo\"}\n",
    "def convertor_dias(clave):\n",
    "      return dias[clave]\n",
    "\n",
    "print(convertor_dias(5))"
   ]
  },
  {
   "cell_type": "code",
   "execution_count": null,
   "metadata": {
    "id": "JnqE6bwEkCGN"
   },
   "outputs": [],
   "source": [
    "argumento\n",
    "\n",
    "salida"
   ]
  },
  {
   "cell_type": "code",
   "execution_count": null,
   "metadata": {
    "id": "0b5EDu2h4rZL"
   },
   "outputs": [],
   "source": []
  },
  {
   "cell_type": "code",
   "execution_count": null,
   "metadata": {
    "colab": {
     "base_uri": "https://localhost:8080/",
     "height": 193
    },
    "executionInfo": {
     "elapsed": 32,
     "status": "error",
     "timestamp": 1741727647590,
     "user": {
      "displayName": "Helene van Caloen",
      "userId": "03717134452519994581"
     },
     "user_tz": -60
    },
    "id": "TqVzHJoINwCq",
    "outputId": "95ecf06e-4093-43e4-d2cb-8f53d47a3801"
   },
   "outputs": [
    {
     "ename": "KeyError",
     "evalue": "'i'",
     "output_type": "error",
     "traceback": [
      "\u001b[0;31m---------------------------------------------------------------------------\u001b[0m",
      "\u001b[0;31mKeyError\u001b[0m                                  Traceback (most recent call last)",
      "\u001b[0;32m<ipython-input-67-87a2bc276a1a>\u001b[0m in \u001b[0;36m<cell line: 0>\u001b[0;34m()\u001b[0m\n\u001b[1;32m      4\u001b[0m     \u001b[0mprint\u001b[0m\u001b[0;34m(\u001b[0m\u001b[0mi\u001b[0m\u001b[0;34m,\u001b[0m\u001b[0;34m\":\"\u001b[0m\u001b[0;34m,\u001b[0m\u001b[0mdias_semana\u001b[0m\u001b[0;34m[\u001b[0m\u001b[0mi\u001b[0m\u001b[0;34m]\u001b[0m\u001b[0;34m)\u001b[0m\u001b[0;34m\u001b[0m\u001b[0;34m\u001b[0m\u001b[0m\n\u001b[1;32m      5\u001b[0m \u001b[0;34m\u001b[0m\u001b[0m\n\u001b[0;32m----> 6\u001b[0;31m \u001b[0mx\u001b[0m \u001b[0;34m=\u001b[0m \u001b[0mdias_semana\u001b[0m\u001b[0;34m[\u001b[0m\u001b[0;34m\"i\"\u001b[0m\u001b[0;34m]\u001b[0m\u001b[0;34m\u001b[0m\u001b[0;34m\u001b[0m\u001b[0m\n\u001b[0m\u001b[1;32m      7\u001b[0m \u001b[0mprint\u001b[0m\u001b[0;34m(\u001b[0m\u001b[0mx\u001b[0m\u001b[0;34m)\u001b[0m\u001b[0;34m\u001b[0m\u001b[0;34m\u001b[0m\u001b[0m\n",
      "\u001b[0;31mKeyError\u001b[0m: 'i'"
     ]
    }
   ],
   "source": [
    "dias_semana = {1:\"lunes\", 2:\"martes\", 3:\"miercoles\", 4:\"jueves\", 5:\"viernes\", 6:\"sabdado\", 7:\"domingo\"}\n",
    "def mi_funccion():\n",
    "  for i in dias_semana:\n",
    "    print(i,\":\",dias_semana[i])\n",
    "\n",
    "x = dias_semana[\"i\"]\n",
    "print(x)"
   ]
  },
  {
   "cell_type": "code",
   "execution_count": null,
   "metadata": {
    "id": "JPA6NoSiA6dS"
   },
   "outputs": [],
   "source": [
    "dias_semana = {1:\"lunes\", 2:\"martes\", 3:\"miercoles\", 4:\"jueves\", 5:\"viernes\", 6:\"sabdado\", 7:\"domingo\"}\n",
    "def mi_funccion(dias_semana):\n",
    "  for i in dias_semana:\n",
    "    print(i,\":\",dias_semana[i])\n",
    "\n",
    "i = 2"
   ]
  },
  {
   "cell_type": "code",
   "execution_count": null,
   "metadata": {
    "colab": {
     "base_uri": "https://localhost:8080/",
     "height": 176
    },
    "executionInfo": {
     "elapsed": 19,
     "status": "error",
     "timestamp": 1741775247230,
     "user": {
      "displayName": "Helene van Caloen",
      "userId": "03717134452519994581"
     },
     "user_tz": -60
    },
    "id": "VWMlcTgQidJn",
    "outputId": "0fbfc4d0-1d00-4524-c632-7580cffc6405"
   },
   "outputs": [
    {
     "ename": "KeyError",
     "evalue": "'lunes'",
     "output_type": "error",
     "traceback": [
      "\u001b[0;31m---------------------------------------------------------------------------\u001b[0m",
      "\u001b[0;31mKeyError\u001b[0m                                  Traceback (most recent call last)",
      "\u001b[0;32m<ipython-input-11-1a8f2b0dc9e5>\u001b[0m in \u001b[0;36m<cell line: 0>\u001b[0;34m()\u001b[0m\n\u001b[1;32m      2\u001b[0m \u001b[0mx\u001b[0m \u001b[0;34m=\u001b[0m \u001b[0;36m2\u001b[0m\u001b[0;34m\u001b[0m\u001b[0;34m\u001b[0m\u001b[0m\n\u001b[1;32m      3\u001b[0m \u001b[0;32mfor\u001b[0m \u001b[0mx\u001b[0m\u001b[0;34m,\u001b[0m \u001b[0my\u001b[0m \u001b[0;32min\u001b[0m \u001b[0mdias_semana\u001b[0m\u001b[0;34m.\u001b[0m\u001b[0mitems\u001b[0m\u001b[0;34m(\u001b[0m\u001b[0;34m)\u001b[0m\u001b[0;34m:\u001b[0m\u001b[0;34m\u001b[0m\u001b[0;34m\u001b[0m\u001b[0m\n\u001b[0;32m----> 4\u001b[0;31m   \u001b[0mprint\u001b[0m\u001b[0;34m(\u001b[0m\u001b[0mx\u001b[0m\u001b[0;34m,\u001b[0m\u001b[0;34m\" \"\u001b[0m\u001b[0;34m,\u001b[0m \u001b[0mdias_semana\u001b[0m\u001b[0;34m[\u001b[0m\u001b[0my\u001b[0m\u001b[0;34m]\u001b[0m\u001b[0;34m)\u001b[0m\u001b[0;34m\u001b[0m\u001b[0;34m\u001b[0m\u001b[0m\n\u001b[0m",
      "\u001b[0;31mKeyError\u001b[0m: 'lunes'"
     ]
    }
   ],
   "source": [
    "dias_semana = {1:\"lunes\", 2:\"martes\", 3:\"miercoles\", 4:\"jueves\", 5:\"viernes\", 6:\"sabdado\", 7:\"domingo\"}\n",
    "x = 2\n",
    "for x, y in dias_semana.items():\n",
    "  print(x,\" \", dias_semana[y])"
   ]
  },
  {
   "cell_type": "code",
   "execution_count": null,
   "metadata": {
    "colab": {
     "base_uri": "https://localhost:8080/",
     "height": 106
    },
    "executionInfo": {
     "elapsed": 5,
     "status": "error",
     "timestamp": 1741775824000,
     "user": {
      "displayName": "Helene van Caloen",
      "userId": "03717134452519994581"
     },
     "user_tz": -60
    },
    "id": "JhQosKLa68cb",
    "outputId": "4ecf1df3-4ee6-4a54-9262-f1c054b1c65f"
   },
   "outputs": [
    {
     "ename": "IndentationError",
     "evalue": "unexpected indent (<ipython-input-16-90965c817fd5>, line 5)",
     "output_type": "error",
     "traceback": [
      "\u001b[0;36m  File \u001b[0;32m\"<ipython-input-16-90965c817fd5>\"\u001b[0;36m, line \u001b[0;32m5\u001b[0m\n\u001b[0;31m    return dia\u001b[0m\n\u001b[0m    ^\u001b[0m\n\u001b[0;31mIndentationError\u001b[0m\u001b[0;31m:\u001b[0m unexpected indent\n"
     ]
    }
   ],
   "source": [
    "dias_semana = {1:\"lunes\", 2:\"martes\", 3:\"miercoles\", 4:\"jueves\", 5:\"viernes\", 6:\"sabdado\", 7:\"domingo\"}\n",
    "x = 2\n",
    "for x in dias_semana():\n",
    "  dia = dias_semana.get( x,y)\n",
    "    return dia\n",
    "  print(x,\" \", dias_semana[y])"
   ]
  },
  {
   "cell_type": "code",
   "execution_count": null,
   "metadata": {
    "id": "j7cz-EYr95oW"
   },
   "outputs": [],
   "source": []
  },
  {
   "cell_type": "markdown",
   "metadata": {
    "id": "1Nk-sjJZxdBX"
   },
   "source": [
    "### Ejercicio 2"
   ]
  },
  {
   "cell_type": "markdown",
   "metadata": {
    "id": "ZwfSQAwwxdBX"
   },
   "source": [
    "Implementa una función que imprima una pirámide como la siguiente\n",
    "\n",
    "5 4 3 2 1  \n",
    "4 3 2 1  \n",
    "3 2 1  \n",
    "2 1  \n",
    "1  \n",
    "\n",
    "de altura variable según el argumento de entrada que indiquemos (en el ejemplo la altura sería 5)\n"
   ]
  },
  {
   "cell_type": "code",
   "execution_count": 18,
   "metadata": {
    "colab": {
     "base_uri": "https://localhost:8080/"
    },
    "executionInfo": {
     "elapsed": 26,
     "status": "ok",
     "timestamp": 1741854657367,
     "user": {
      "displayName": "Helene van Caloen",
      "userId": "03717134452519994581"
     },
     "user_tz": -60
    },
    "id": "Ob5KjHPO5tVC",
    "outputId": "7213df33-ca05-4c1e-f998-ddd03d5d1066"
   },
   "outputs": [
    {
     "name": "stdout",
     "output_type": "stream",
     "text": [
      "10 9 8 7 6 5 4 3 2 1  \n",
      "9 8 7 6 5 4 3 2 1  \n",
      "8 7 6 5 4 3 2 1  \n",
      "7 6 5 4 3 2 1  \n",
      "6 5 4 3 2 1  \n",
      "5 4 3 2 1  \n",
      "4 3 2 1  \n",
      "3 2 1  \n",
      "2 1  \n",
      "1  \n"
     ]
    }
   ],
   "source": [
    "\n",
    "\n",
    "def piramide(n):\n",
    "  for i in range(0,n):\n",
    "    for x in range (n-i,0,-1):\n",
    "      print(x, end=\" \")\n",
    "    print(\" \")\n",
    "\n",
    "piramide(10)\n"
   ]
  },
  {
   "cell_type": "code",
   "execution_count": 20,
   "metadata": {
    "colab": {
     "base_uri": "https://localhost:8080/"
    },
    "executionInfo": {
     "elapsed": 70,
     "status": "ok",
     "timestamp": 1741855008367,
     "user": {
      "displayName": "Helene van Caloen",
      "userId": "03717134452519994581"
     },
     "user_tz": -60
    },
    "id": "IOB202D-l-0A",
    "outputId": "22c01126-2f94-4a27-8e54-52c95bdfd296"
   },
   "outputs": [
    {
     "name": "stdout",
     "output_type": "stream",
     "text": [
      "12\n",
      "30\n",
      "None\n"
     ]
    }
   ],
   "source": [
    "def multiplica_2(n,m):\n",
    "  return n*m\n",
    "\n",
    "def multiplica_print_2(n,m):\n",
    "  print(n*m)\n",
    "  return None\n",
    "\n",
    "print(multiplica_2(3,4))\n",
    "print(multiplica_print_2(5,6))"
   ]
  },
  {
   "cell_type": "code",
   "execution_count": null,
   "metadata": {
    "colab": {
     "base_uri": "https://localhost:8080/"
    },
    "executionInfo": {
     "elapsed": 6,
     "status": "ok",
     "timestamp": 1741723672357,
     "user": {
      "displayName": "Helene van Caloen",
      "userId": "03717134452519994581"
     },
     "user_tz": -60
    },
    "id": "QMykfQ010X4G",
    "outputId": "238cbfc1-bbe2-4699-9e83-027464fb516a"
   },
   "outputs": [
    {
     "name": "stdout",
     "output_type": "stream",
     "text": [
      "0\n",
      "1\n",
      "2\n",
      "3\n",
      "4\n"
     ]
    }
   ],
   "source": [
    ")n= 5\n",
    "for n in range(n):\n",
    "  print(n)"
   ]
  },
  {
   "cell_type": "code",
   "execution_count": null,
   "metadata": {
    "id": "bOW4lvuBo3fN"
   },
   "outputs": [],
   "source": []
  },
  {
   "cell_type": "code",
   "execution_count": null,
   "metadata": {
    "colab": {
     "base_uri": "https://localhost:8080/"
    },
    "executionInfo": {
     "elapsed": 41,
     "status": "ok",
     "timestamp": 1741724184374,
     "user": {
      "displayName": "Helene van Caloen",
      "userId": "03717134452519994581"
     },
     "user_tz": -60
    },
    "id": "q-3c39-V6OpY",
    "outputId": "b4ad2936-48a2-4fd2-8807-333853edad94"
   },
   "outputs": [
    {
     "name": "stdout",
     "output_type": "stream",
     "text": [
      "1\n",
      "2\n",
      "3\n",
      "4\n",
      "5\n"
     ]
    }
   ],
   "source": [
    "n = 6\n",
    "for x in range(1,n):\n",
    "  print(x)"
   ]
  },
  {
   "cell_type": "code",
   "execution_count": null,
   "metadata": {
    "id": "gtWbPmwI5u22"
   },
   "outputs": [],
   "source": [
    "n = 6\n",
    "for x in range(1, n, -1):\n",
    "  n = list()\n",
    "  print(n)"
   ]
  },
  {
   "cell_type": "code",
   "execution_count": null,
   "metadata": {
    "id": "LESKNXnz5vPG"
   },
   "outputs": [],
   "source": [
    "x = range( 1, 6, -1)\n",
    "for n in x:\n",
    "  print(n)\n"
   ]
  },
  {
   "cell_type": "code",
   "execution_count": null,
   "metadata": {
    "id": "ONpR_z2M5vfd"
   },
   "outputs": [],
   "source": []
  },
  {
   "cell_type": "code",
   "execution_count": null,
   "metadata": {
    "id": "DWKmRV5Z5v71"
   },
   "outputs": [],
   "source": []
  },
  {
   "cell_type": "code",
   "execution_count": null,
   "metadata": {
    "colab": {
     "base_uri": "https://localhost:8080/"
    },
    "executionInfo": {
     "elapsed": 7,
     "status": "ok",
     "timestamp": 1741725004668,
     "user": {
      "displayName": "Helene van Caloen",
      "userId": "03717134452519994581"
     },
     "user_tz": -60
    },
    "id": "rj0QWTmkxdBX",
    "outputId": "de9444da-e2a1-46de-facf-f358a87b36ec"
   },
   "outputs": [
    {
     "name": "stdout",
     "output_type": "stream",
     "text": [
      "5 4 3 2 1 \n",
      "4 3 2 1 \n",
      "3 2 1 \n",
      "2 1 \n",
      "1 \n"
     ]
    }
   ],
   "source": [
    "n = 5\n",
    "k = 5\n",
    "\n",
    "for i in range(0, 5):\n",
    "    for j in range(k -i, 0, -1):\n",
    "       print(j, end =\" \")\n",
    "    print()"
   ]
  },
  {
   "cell_type": "markdown",
   "metadata": {
    "id": "8uVCElxDxdBY"
   },
   "source": [
    "### Ejercicio 3\n"
   ]
  },
  {
   "cell_type": "markdown",
   "metadata": {
    "id": "mvkg2u7TxdBZ"
   },
   "source": [
    "Escibe una función que compare dos números. La función tiene dos argumentos y hay tres salidas posibles: que sean iguales, que el primero se  mayor que el segundo, o que el segundo sea mayor que el primero"
   ]
  },
  {
   "cell_type": "code",
   "execution_count": null,
   "metadata": {
    "colab": {
     "base_uri": "https://localhost:8080/"
    },
    "executionInfo": {
     "elapsed": 8,
     "status": "ok",
     "timestamp": 1741633949470,
     "user": {
      "displayName": "Helene van Caloen",
      "userId": "03717134452519994581"
     },
     "user_tz": -60
    },
    "id": "QTR15C5ixdBZ",
    "outputId": "3b3fc4ea-1506-46b3-c7cb-5f06a6dd67a8"
   },
   "outputs": [
    {
     "data": {
      "text/plain": [
       "(False, False, True)"
      ]
     },
     "execution_count": 6,
     "metadata": {},
     "output_type": "execute_result"
    }
   ],
   "source": [
    "def numero (n,y):\n",
    "  cond1 = n == y\n",
    "  cond2 = n > y\n",
    "  cond3 = y > n\n",
    "  return (cond1, cond2, cond3)\n",
    "\n",
    "numero (2,3)"
   ]
  },
  {
   "cell_type": "code",
   "execution_count": 21,
   "metadata": {
    "colab": {
     "base_uri": "https://localhost:8080/"
    },
    "executionInfo": {
     "elapsed": 30,
     "status": "ok",
     "timestamp": 1741855359364,
     "user": {
      "displayName": "Helene van Caloen",
      "userId": "03717134452519994581"
     },
     "user_tz": -60
    },
    "id": "EKVZa9zFqKQt",
    "outputId": "c050ce63-52f8-4cff-d269-02783fb9c9ba"
   },
   "outputs": [
    {
     "data": {
      "text/plain": [
       "2"
      ]
     },
     "execution_count": 21,
     "metadata": {},
     "output_type": "execute_result"
    }
   ],
   "source": [
    "def numero (n,y):\n",
    "  if n == y:\n",
    "    return 0\n",
    "  if n > y :\n",
    "    return 1\n",
    "  if n < y :\n",
    "    return 2\n",
    "numero (4,5)\n"
   ]
  },
  {
   "cell_type": "markdown",
   "metadata": {
    "id": "hcvg6M4LxdBZ"
   },
   "source": [
    "### Ejercicio 4"
   ]
  },
  {
   "cell_type": "markdown",
   "metadata": {
    "id": "cM-9b6tvxdBZ"
   },
   "source": [
    "Escribe una función que sea un contador de letras. En el primer argumento tienes que introducir un texto, y el segundo que sea la letra a contar. La función tiene que devolver un entero con el número de veces que aparece esa letra, tanto mayuscula, como minúscula"
   ]
  },
  {
   "cell_type": "code",
   "execution_count": null,
   "metadata": {
    "id": "uBCghQ5exdBZ"
   },
   "outputs": [],
   "source": []
  },
  {
   "cell_type": "code",
   "execution_count": 24,
   "metadata": {
    "colab": {
     "base_uri": "https://localhost:8080/"
    },
    "executionInfo": {
     "elapsed": 60,
     "status": "ok",
     "timestamp": 1741855626422,
     "user": {
      "displayName": "Helene van Caloen",
      "userId": "03717134452519994581"
     },
     "user_tz": -60
    },
    "id": "QXR-VcGCFz9f",
    "outputId": "f7cecd91-705f-4978-fde5-b4fbba13c735"
   },
   "outputs": [
    {
     "data": {
      "text/plain": [
       "2"
      ]
     },
     "execution_count": 24,
     "metadata": {},
     "output_type": "execute_result"
    }
   ],
   "source": [
    "def contador_letra(palabra, letra):\n",
    "    palabra1 = palabra.lower()\n",
    "    palabra2 = palabra1.count(letra)\n",
    "    return palabra2\n",
    "\n",
    "contador_letra(\"abracaCdabrA\",\"c\")"
   ]
  },
  {
   "cell_type": "code",
   "execution_count": null,
   "metadata": {
    "colab": {
     "base_uri": "https://localhost:8080/"
    },
    "executionInfo": {
     "elapsed": 7,
     "status": "ok",
     "timestamp": 1741713343918,
     "user": {
      "displayName": "Helene van Caloen",
      "userId": "03717134452519994581"
     },
     "user_tz": -60
    },
    "id": "ub-MWWw8EUdW",
    "outputId": "5a2a63e3-fc6e-4c6a-a6be-eae094254c2f"
   },
   "outputs": [
    {
     "data": {
      "text/plain": [
       "5"
      ]
     },
     "execution_count": 94,
     "metadata": {},
     "output_type": "execute_result"
    }
   ],
   "source": [
    "def contador_letra(palabra):\n",
    "    palabra1 = (palabra.count(\"a\")) + (palabra.count(\"A\"))\n",
    "    return palabra1\n",
    "\n",
    "contador_letra(\"abracadabrA\")"
   ]
  },
  {
   "cell_type": "code",
   "execution_count": null,
   "metadata": {
    "id": "_jyJexiuNKko"
   },
   "outputs": [],
   "source": []
  },
  {
   "cell_type": "markdown",
   "metadata": {
    "id": "nKjydCnCxdBZ"
   },
   "source": [
    "### Ejercicio 5"
   ]
  },
  {
   "cell_type": "markdown",
   "metadata": {
    "id": "xH4FfhiFxdBa"
   },
   "source": [
    "Escribe una función que tenga un único argumento, un string. La salida de la función tiene que ser un diccionario con el conteo de todas las letras de ese string."
   ]
  },
  {
   "cell_type": "code",
   "execution_count": 27,
   "metadata": {
    "colab": {
     "base_uri": "https://localhost:8080/"
    },
    "executionInfo": {
     "elapsed": 51,
     "status": "ok",
     "timestamp": 1741856320651,
     "user": {
      "displayName": "Helene van Caloen",
      "userId": "03717134452519994581"
     },
     "user_tz": -60
    },
    "id": "FFANXfzVFY3b",
    "outputId": "9b0a9b95-4943-41f3-e33a-73993d099d37"
   },
   "outputs": [
    {
     "data": {
      "text/plain": [
       "{'t': 2, 'e': 1, 's': 1}"
      ]
     },
     "execution_count": 27,
     "metadata": {},
     "output_type": "execute_result"
    }
   ],
   "source": [
    "def contador_letras(argumento):\n",
    "  dictionario = {}\n",
    "  for n in argumento:\n",
    "    valor = argumento.count(n)\n",
    "    dictionario[n] = valor\n",
    "  return dictionario\n",
    "\n",
    "contador_letras(\"test\")"
   ]
  },
  {
   "cell_type": "code",
   "execution_count": null,
   "metadata": {
    "id": "d0DRQqnXsCyK"
   },
   "outputs": [],
   "source": []
  },
  {
   "cell_type": "code",
   "execution_count": null,
   "metadata": {
    "colab": {
     "base_uri": "https://localhost:8080/",
     "height": 106
    },
    "executionInfo": {
     "elapsed": 18,
     "status": "error",
     "timestamp": 1741712037282,
     "user": {
      "displayName": "Helene van Caloen",
      "userId": "03717134452519994581"
     },
     "user_tz": -60
    },
    "id": "yhxdlJ0KxdBa",
    "outputId": "28a530db-a2ec-433b-e35b-d57669292787"
   },
   "outputs": [
    {
     "ename": "SyntaxError",
     "evalue": "invalid syntax (<ipython-input-81-bbdc34c24516>, line 1)",
     "output_type": "error",
     "traceback": [
      "\u001b[0;36m  File \u001b[0;32m\"<ipython-input-81-bbdc34c24516>\"\u001b[0;36m, line \u001b[0;32m1\u001b[0m\n\u001b[0;31m    def argumento(\"una prueba complicada\"):\u001b[0m\n\u001b[0m                  ^\u001b[0m\n\u001b[0;31mSyntaxError\u001b[0m\u001b[0;31m:\u001b[0m invalid syntax\n"
     ]
    }
   ],
   "source": [
    "def argumento (\"una prueba complicada\"):\n",
    "  list(argumento)\n",
    "  list.count()"
   ]
  },
  {
   "cell_type": "markdown",
   "metadata": {
    "id": "0CkhmgySxdBa"
   },
   "source": [
    "### Ejercicio 6\n"
   ]
  },
  {
   "cell_type": "markdown",
   "metadata": {
    "id": "Gv2m7K-1xdBa"
   },
   "source": [
    "\n",
    "Crea una función que reciba un número arbitrario de palabras, y devuelva una frase completa, separando las palabras con espacios."
   ]
  },
  {
   "cell_type": "code",
   "execution_count": null,
   "metadata": {
    "id": "aPyGTKx-vlx_"
   },
   "outputs": [],
   "source": []
  },
  {
   "cell_type": "code",
   "execution_count": 50,
   "metadata": {
    "colab": {
     "base_uri": "https://localhost:8080/",
     "height": 106
    },
    "executionInfo": {
     "elapsed": 45,
     "status": "error",
     "timestamp": 1741857455131,
     "user": {
      "displayName": "Helene van Caloen",
      "userId": "03717134452519994581"
     },
     "user_tz": -60
    },
    "id": "mFPYuZgWxdBa",
    "outputId": "fb6417d4-ca46-430e-cb80-167be3b7b630"
   },
   "outputs": [
    {
     "ename": "SyntaxError",
     "evalue": "invalid syntax. Maybe you meant '==' or ':=' instead of '='? (<ipython-input-50-4611ffc41bfa>, line 3)",
     "output_type": "error",
     "traceback": [
      "\u001b[0;36m  File \u001b[0;32m\"<ipython-input-50-4611ffc41bfa>\"\u001b[0;36m, line \u001b[0;32m3\u001b[0m\n\u001b[0;31m    return (n, end=\" \")\u001b[0m\n\u001b[0m               ^\u001b[0m\n\u001b[0;31mSyntaxError\u001b[0m\u001b[0;31m:\u001b[0m invalid syntax. Maybe you meant '==' or ':=' instead of '='?\n"
     ]
    }
   ],
   "source": [
    "def frase_completa(*argumento):\n",
    "  for n in argumento:\n",
    "    return (n, end=\" \")\n",
    "print(n, end=\" \")\n",
    "frase_completa(\"una\",\"verde\",\"casa\",\"bonita\")\n"
   ]
  },
  {
   "cell_type": "code",
   "execution_count": null,
   "metadata": {
    "id": "W8wD1PRuDXri"
   },
   "outputs": [],
   "source": [
    "from typing_extensions import Concatenate\n",
    "def frase_completa(*argumento):\n",
    "  for n in argumento:\n",
    "    frase = list.argumento\n",
    "  print(frase)\n",
    "  print(type(frase))\n",
    "\n",
    "frase_completa = (\"una\",\"verde\",\"casa\",\"bonita\")"
   ]
  }
 ],
 "metadata": {
  "colab": {
   "provenance": []
  },
  "kernelspec": {
   "display_name": "Curso_Online_DATA",
   "language": "python",
   "name": "python3"
  },
  "language_info": {
   "codemirror_mode": {
    "name": "ipython",
    "version": 3
   },
   "file_extension": ".py",
   "mimetype": "text/x-python",
   "name": "python",
   "nbconvert_exporter": "python",
   "pygments_lexer": "ipython3",
   "version": "3.10.12"
  },
  "orig_nbformat": 4
 },
 "nbformat": 4,
 "nbformat_minor": 0
}
